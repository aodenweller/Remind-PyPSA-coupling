{
 "cells": [
  {
   "cell_type": "code",
   "execution_count": 20,
   "id": "a1dc3b7b",
   "metadata": {},
   "outputs": [],
   "source": [
    "import pandas as pd\n",
    "import os\n",
    "import country_converter as coco"
   ]
  },
  {
   "cell_type": "markdown",
   "id": "521b916a",
   "metadata": {},
   "source": [
    "## read example cost data"
   ]
  },
  {
   "cell_type": "code",
   "execution_count": 4,
   "id": "3a7d83d3",
   "metadata": {},
   "outputs": [
    {
     "data": {
      "text/plain": [
       "['p32_capCostwAdjCostScaled.csv', 'p32_capCostwAdjCost.csv']"
      ]
     },
     "execution_count": 4,
     "metadata": {},
     "output_type": "execute_result"
    }
   ],
   "source": [
    "exports = \"/home/ivanra/documents/gams_learning/pypsa_export\"\n",
    "files = os.listdir(exports)\n",
    "cost_files = [x for x in files if x.lower().find(\"cost\")> -1]\n",
    "cost_files"
   ]
  },
  {
   "cell_type": "code",
   "execution_count": null,
   "id": "81c2023e",
   "metadata": {},
   "outputs": [
    {
     "name": "stderr",
     "output_type": "stream",
     "text": [
      "/tmp/ipykernel_65809/3672479147.py:35: SettingWithCopyWarning: \n",
      "A value is trying to be set on a copy of a slice from a DataFrame.\n",
      "Try using .loc[row_indexer,col_indexer] = value instead\n",
      "\n",
      "See the caveats in the documentation: https://pandas.pydata.org/pandas-docs/stable/user_guide/indexing.html#returning-a-view-versus-a-copy\n",
      "  lifetime[\"unit\"] = \"years\"\n",
      "/tmp/ipykernel_65809/3672479147.py:24: SettingWithCopyWarning: \n",
      "A value is trying to be set on a copy of a slice from a DataFrame.\n",
      "Try using .loc[row_indexer,col_indexer] = value instead\n",
      "\n",
      "See the caveats in the documentation: https://pandas.pydata.org/pandas-docs/stable/user_guide/indexing.html#returning-a-view-versus-a-copy\n",
      "  vom[\"value\"] *= UNIT_CONVERSION[\"VOM\"]\n",
      "/tmp/ipykernel_65809/3672479147.py:25: SettingWithCopyWarning: \n",
      "A value is trying to be set on a copy of a slice from a DataFrame.\n",
      "Try using .loc[row_indexer,col_indexer] = value instead\n",
      "\n",
      "See the caveats in the documentation: https://pandas.pydata.org/pandas-docs/stable/user_guide/indexing.html#returning-a-view-versus-a-copy\n",
      "  vom[\"unit\"] = \"USD/MWh\"\n"
     ]
    }
   ],
   "source": [
    "def read_remind_csv(file_path, names: list = None, skiprows = 1)->pd.DataFrame:\n",
    "    df = pd.read_csv(file_path, names = names, skiprows=skiprows)\n",
    "    if \"variable\" in df.columns:\n",
    "        df.drop(columns = [\"variable\"], inplace = True)\n",
    "    return df\n",
    "\n",
    "costs_p = os.path.join(exports,cost_files[1])\n",
    "capex = read_remind_csv(costs_p, names = [\"variable\", \"year\", \"region\", \"tech\",\"value\"], skiprows=1)\n",
    "\n",
    "UNIT_CONVERSION = {\n",
    "    \"capex\": 1e6, # TUSD/TW(h) to USD/MW(h)\n",
    "    \"VOM\": 1e6/8760, # TUSD/TWa to USD/MWh\n",
    "    \"FOM\": 100, # p.u to percent\n",
    "}\n",
    "\n",
    "def transform_capex(capex: pd.DataFrame) -> pd.DataFrame:\n",
    "    capex[\"value\"] *= UNIT_CONVERSION[\"capex\"]\n",
    "    capex[\"unit\"] = \"USD/MW\"\n",
    "    store_techs = [\"h2stor\", \"btstor\", \"phs\"]\n",
    "    for stor in store_techs:\n",
    "        capex.loc[capex[\"tech\"] == stor, \"unit\"] = \"USD/MWh\"\n",
    "    return capex\n",
    "\n",
    "def transform_vom(vom: pd.DataFrame) -> pd.DataFrame:\n",
    "    vom[\"value\"] *= UNIT_CONVERSION[\"VOM\"]\n",
    "    vom[\"unit\"] = \"USD/MWh\"\n",
    "    return vom\n",
    "\n",
    "capex = transform_capex(capex)\n",
    "capex[(capex.year==2025)].drop(columns = [\"region\"])\n",
    "\n",
    "tech_data_p = os.path.join(exports, \"pm_data.csv\")\n",
    "tech_data = read_remind_csv(tech_data_p, names = [\"variable\", \"year\", \"field\", \"tech\",\"value\"], skiprows=1)\n",
    "\n",
    "lifetime = tech_data.query(\"field == 'lifetime'\")\n",
    "lifetime[\"unit\"] = \"years\"\n",
    "\n",
    "vom = tech_data.query(\"field == 'omv'\")\n",
    "vom = transform_vom(vom)\n",
    "\n",
    "fom = tech_data.query(\"field == 'omf'\")\n",
    "fom[\"unit\"] = \"percent\"\n",
    "fom[\"value\"] *= UNIT_CONVERSION[\"FOM\"]\n",
    "\n",
    "\n",
    "\n"
   ]
  },
  {
   "cell_type": "code",
   "execution_count": null,
   "id": "41fc8054",
   "metadata": {},
   "outputs": [
    {
     "data": {
      "text/html": [
       "<div>\n",
       "<style scoped>\n",
       "    .dataframe tbody tr th:only-of-type {\n",
       "        vertical-align: middle;\n",
       "    }\n",
       "\n",
       "    .dataframe tbody tr th {\n",
       "        vertical-align: top;\n",
       "    }\n",
       "\n",
       "    .dataframe thead th {\n",
       "        text-align: right;\n",
       "    }\n",
       "</style>\n",
       "<table border=\"1\" class=\"dataframe\">\n",
       "  <thead>\n",
       "    <tr style=\"text-align: right;\">\n",
       "      <th></th>\n",
       "      <th>year</th>\n",
       "      <th>field</th>\n",
       "      <th>tech</th>\n",
       "      <th>value</th>\n",
       "    </tr>\n",
       "  </thead>\n",
       "  <tbody>\n",
       "    <tr>\n",
       "      <th>490</th>\n",
       "      <td>CHA</td>\n",
       "      <td>lifetime</td>\n",
       "      <td>ngcc</td>\n",
       "      <td>35.0</td>\n",
       "    </tr>\n",
       "    <tr>\n",
       "      <th>491</th>\n",
       "      <td>CHA</td>\n",
       "      <td>lifetime</td>\n",
       "      <td>ngccc</td>\n",
       "      <td>35.0</td>\n",
       "    </tr>\n",
       "    <tr>\n",
       "      <th>492</th>\n",
       "      <td>CHA</td>\n",
       "      <td>lifetime</td>\n",
       "      <td>ngt</td>\n",
       "      <td>30.0</td>\n",
       "    </tr>\n",
       "    <tr>\n",
       "      <th>493</th>\n",
       "      <td>CHA</td>\n",
       "      <td>lifetime</td>\n",
       "      <td>gaschp</td>\n",
       "      <td>35.0</td>\n",
       "    </tr>\n",
       "    <tr>\n",
       "      <th>494</th>\n",
       "      <td>CHA</td>\n",
       "      <td>lifetime</td>\n",
       "      <td>dot</td>\n",
       "      <td>25.0</td>\n",
       "    </tr>\n",
       "    <tr>\n",
       "      <th>...</th>\n",
       "      <td>...</td>\n",
       "      <td>...</td>\n",
       "      <td>...</td>\n",
       "      <td>...</td>\n",
       "    </tr>\n",
       "    <tr>\n",
       "      <th>7589</th>\n",
       "      <td>USA</td>\n",
       "      <td>lifetime</td>\n",
       "      <td>idrcc</td>\n",
       "      <td>20.0</td>\n",
       "    </tr>\n",
       "    <tr>\n",
       "      <th>7590</th>\n",
       "      <td>USA</td>\n",
       "      <td>lifetime</td>\n",
       "      <td>bof</td>\n",
       "      <td>20.0</td>\n",
       "    </tr>\n",
       "    <tr>\n",
       "      <th>7591</th>\n",
       "      <td>USA</td>\n",
       "      <td>lifetime</td>\n",
       "      <td>vess_lng</td>\n",
       "      <td>99.0</td>\n",
       "    </tr>\n",
       "    <tr>\n",
       "      <th>7592</th>\n",
       "      <td>USA</td>\n",
       "      <td>lifetime</td>\n",
       "      <td>tdh2i</td>\n",
       "      <td>45.0</td>\n",
       "    </tr>\n",
       "    <tr>\n",
       "      <th>7593</th>\n",
       "      <td>USA</td>\n",
       "      <td>lifetime</td>\n",
       "      <td>tdh2b</td>\n",
       "      <td>45.0</td>\n",
       "    </tr>\n",
       "  </tbody>\n",
       "</table>\n",
       "<p>1188 rows × 4 columns</p>\n",
       "</div>"
      ],
      "text/plain": [
       "     year     field      tech  value\n",
       "490   CHA  lifetime      ngcc   35.0\n",
       "491   CHA  lifetime     ngccc   35.0\n",
       "492   CHA  lifetime       ngt   30.0\n",
       "493   CHA  lifetime    gaschp   35.0\n",
       "494   CHA  lifetime       dot   25.0\n",
       "...   ...       ...       ...    ...\n",
       "7589  USA  lifetime     idrcc   20.0\n",
       "7590  USA  lifetime       bof   20.0\n",
       "7591  USA  lifetime  vess_lng   99.0\n",
       "7592  USA  lifetime     tdh2i   45.0\n",
       "7593  USA  lifetime     tdh2b   45.0\n",
       "\n",
       "[1188 rows x 4 columns]"
      ]
     },
     "execution_count": 146,
     "metadata": {},
     "output_type": "execute_result"
    }
   ],
   "source": []
  },
  {
   "cell_type": "code",
   "execution_count": null,
   "id": "80862ac3",
   "metadata": {},
   "outputs": [],
   "source": [
    "# TODO cost units in pypsa china\n",
    "# TODO PHS brownfield in china\n",
    "# TODO hydro brownfield in china"
   ]
  },
  {
   "cell_type": "markdown",
   "id": "323d9ee3",
   "metadata": {},
   "source": [
    "## read region mappings"
   ]
  },
  {
   "cell_type": "code",
   "execution_count": 6,
   "id": "0a66d8c5",
   "metadata": {},
   "outputs": [],
   "source": [
    "regions = pd.read_csv(os.path.join(exports,\"region_mappings.csv\"))\n",
    "region_isos = regions.groupby(\"all_regi2\")[\"iso\"].apply(lambda row: list(row))\n",
    "regions.drop(columns=\"element_text\", inplace = True)"
   ]
  },
  {
   "cell_type": "code",
   "execution_count": 23,
   "id": "e54201c5",
   "metadata": {},
   "outputs": [
    {
     "data": {
      "text/plain": [
       "(    all_regi2  iso iso2\n",
       " 0         CHA  CHN   CN\n",
       " 1         CHA  HKG   HK\n",
       " 2         CHA  MAC   MO\n",
       " 3         CHA  TWN   TW\n",
       " 4         LAM  ABW   AW\n",
       " ..        ...  ...  ...\n",
       " 244       CAZ  NZL   NZ\n",
       " 245       CAZ  SPM   PM\n",
       " 246       IND  IND   IN\n",
       " 247       JPN  JPN   JP\n",
       " 248       USA  USA   US\n",
       " \n",
       " [249 rows x 3 columns],\n",
       " all_regi2\n",
       " CAZ                            [AUS, CAN, HMD, NZL, SPM]\n",
       " CHA                                 [CHN, HKG, MAC, TWN]\n",
       " EUR    [ALA, AUT, BEL, BGR, CYP, CZE, DEU, DNK, ESP, ...\n",
       " IND                                                [IND]\n",
       " JPN                                                [JPN]\n",
       " LAM    [ABW, AIA, ARG, ATA, ATG, BES, BHS, BLM, BLZ, ...\n",
       " MEA    [ARE, BHR, DZA, EGY, ESH, IRN, IRQ, ISR, JOR, ...\n",
       " NEU    [ALB, AND, BIH, CHE, GRL, ISL, LIE, MCO, MKD, ...\n",
       " OAS    [AFG, ASM, ATF, BGD, BRN, BTN, CCK, COK, CXR, ...\n",
       " REF    [ARM, AZE, BLR, GEO, KAZ, KGZ, MDA, RUS, TJK, ...\n",
       " SSA    [AGO, BDI, BEN, BFA, BWA, CAF, CIV, CMR, COD, ...\n",
       " USA                                                [USA]\n",
       " Name: iso, dtype: object)"
      ]
     },
     "execution_count": 23,
     "metadata": {},
     "output_type": "execute_result"
    }
   ],
   "source": [
    "def read_remind_regions(mapping_path: os.PathLike)->pd.DataFrame:\n",
    "    \"\"\"read the export from remind \n",
    "\n",
    "    Args:\n",
    "        mapping_path (os.PathLike): the path to the remind mapping (csv export of regi2iso set via GamsConnect)\n",
    "\n",
    "    Returns:\n",
    "        pd.DataFrame: the region mapping\n",
    "    \"\"\"    \n",
    "\n",
    "    regions = pd.read_csv(mapping_path)\n",
    "    regions.drop(columns=\"element_text\", inplace = True)\n",
    "    regions[\"iso2\"] = coco.convert(regions[\"iso\"], to=\"ISO2\")\n",
    "    return regions\n",
    "\n",
    "regions = read_remind_regions(os.path.join(exports,\"region_mappings.csv\"))\n",
    "regions_isolists = regions.groupby(\"all_regi2\")[\"iso\"].apply(lambda row: list(row))\n",
    "regions, regions_isolists\n",
    "\n"
   ]
  },
  {
   "cell_type": "markdown",
   "id": "3e7f1f0b",
   "metadata": {},
   "source": [
    "## convert costs"
   ]
  },
  {
   "cell_type": "code",
   "execution_count": 74,
   "id": "bd64b8e7",
   "metadata": {},
   "outputs": [],
   "source": [
    "\n",
    "def read_remind_data(file_path, variable_name, rename_columns={}, error_on_empty=True):\n",
    "    \"\"\"\n",
    "    Auxiliary function for standardised and cached reading of REMIND-EU data\n",
    "    files to pandas.DataFrame.\n",
    "\n",
    "    Here all values read are considered variable, i.e. use\n",
    "    \"variable_name\" also for what is considered a \"parameter\" in the GDX\n",
    "    file.\n",
    "    \"\"\"\n",
    "   \n",
    "\n",
    "    @functools.lru_cache\n",
    "    def _read_and_cache_remind_file(fp):\n",
    "        return Container(load_from=fp)\n",
    "\n",
    "    data = _read_and_cache_remind_file(file_path)[variable_name]\n",
    "    df = data.records\n",
    "    descript = data.description\n",
    "    \n",
    "\n",
    "    if error_on_empty and (df is None or df.empty):\n",
    "        raise ValueError(f\"{variable_name} is empty. In: {file_path}\")\n",
    "\n",
    "    df = df.rename(columns=rename_columns, errors=\"raise\")\n",
    "\n",
    "    return df, descript"
   ]
  }
 ],
 "metadata": {
  "kernelspec": {
   "display_name": ".venv",
   "language": "python",
   "name": "python3"
  },
  "language_info": {
   "codemirror_mode": {
    "name": "ipython",
    "version": 3
   },
   "file_extension": ".py",
   "mimetype": "text/x-python",
   "name": "python",
   "nbconvert_exporter": "python",
   "pygments_lexer": "ipython3",
   "version": "3.12.7"
  }
 },
 "nbformat": 4,
 "nbformat_minor": 5
}
